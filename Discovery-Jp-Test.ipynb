{
 "cells": [
  {
   "cell_type": "markdown",
   "metadata": {},
   "source": [
    "# Discoveryでコレクション作成"
   ]
  },
  {
   "cell_type": "code",
   "execution_count": null,
   "metadata": {},
   "outputs": [],
   "source": [
    "# 個別設定\n",
    "# 管理コンソールのcredentail情報をコピーします。\n",
    "credencial = {\n",
    "  \"url\": \"https://gateway.watsonplatform.net/discovery/api\",\n",
    "  \"username\": \"xxxxxxxx-xxxx-xxxx-xxxx-xxxxxxxxxxxx\",\n",
    "  \"password\": \"xxxxxxxxxxxx\"\n",
    "}"
   ]
  },
  {
   "cell_type": "code",
   "execution_count": null,
   "metadata": {},
   "outputs": [],
   "source": [
    "# ライブラリ読み込み\n",
    "import json\n",
    "from watson_developer_cloud import DiscoveryV1\n",
    "# In the constructor, letting the SDK manage the IAM token\n",
    "discovery = DiscoveryV1(version = '2018-03-05',\n",
    "                        username = credencial['username'],\n",
    "                       password = credencial['password'])"
   ]
  },
  {
   "cell_type": "code",
   "execution_count": null,
   "metadata": {},
   "outputs": [],
   "source": [
    "# Environment作成\n",
    "response = discovery.create_environment(\n",
    "    name=\"my_environment\"\n",
    ")\n",
    "# environment_idの設定\n",
    "environment_id = response['environment_id']\n",
    "print(environment_id)"
   ]
  },
  {
   "cell_type": "code",
   "execution_count": null,
   "metadata": {},
   "outputs": [],
   "source": [
    "# Collection作成\n",
    "col_name = 'JP_TEST'\n",
    "new_collection = discovery.create_collection(\n",
    "    environment_id = response['environment_id'], \n",
    "    name = col_name, \n",
    "    language='ja')\n",
    "\n",
    "# collection_idの設定\n",
    "collection_id = new_collection['collection_id']\n",
    "print(collection_id)"
   ]
  },
  {
   "cell_type": "code",
   "execution_count": null,
   "metadata": {},
   "outputs": [],
   "source": [
    "# 必要であれば、このタイミングでエンリッチ設定の変更を行います。\n",
    "# 一度コレクションを日本語で作ってしまえば、エンリッチ設定変更はUIから可能です。"
   ]
  },
  {
   "cell_type": "markdown",
   "metadata": {},
   "source": [
    "# CSVファイル読込み"
   ]
  },
  {
   "cell_type": "code",
   "execution_count": null,
   "metadata": {},
   "outputs": [],
   "source": [
    "infile = 'data_xxxxxx.csv'\n",
    "\n",
    "# このセルは、ツール生成のものを一部手で修正します。\n",
    "\n",
    "import sys\n",
    "import types\n",
    "import pandas as pd\n",
    "from botocore.client import Config\n",
    "import ibm_boto3\n",
    "\n",
    "def __iter__(self): return 0\n",
    "\n",
    "client_xxxxxx = ibm_boto3.client(service_name='s3',\n",
    "    ibm_api_key_id='xxxxxx',\n",
    "    ibm_auth_endpoint=\"https://iam.ng.bluemix.net/oidc/token\",\n",
    "    config=Config(signature_version='oauth'),\n",
    "    endpoint_url='https://s3-api.us-geo.objectstorage.service.networklayer.com')\n",
    "\n",
    "# Key=のパラメータは変数利用に修正しました\n",
    "body = client_38bc5a04c29444d093d357a963ea4f0d.get_object(Bucket='xxxxxxx',Key=infile)['Body']\n",
    "# add missing __iter__ method, so pandas accepts body as file-like object\n",
    "if not hasattr(body, \"__iter__\"): body.__iter__ = types.MethodType( __iter__, body )\n",
    "\n",
    "# DataFrame名は df_dataに修正しました\n",
    "df_data = pd.read_csv(body)\n",
    "df_data.head()"
   ]
  },
  {
   "cell_type": "markdown",
   "metadata": {},
   "source": [
    "# 読み込んだデータをDiscovey Collectionに書き込み"
   ]
  },
  {
   "cell_type": "code",
   "execution_count": null,
   "metadata": {
    "scrolled": true
   },
   "outputs": [],
   "source": [
    "import os\n",
    "for i in range(len(df_data)):\n",
    "    item = df_data.iloc[i,:]\n",
    "    data = {}\n",
    "    \n",
    "    # 以下はCSVの項目名によって修正して下さい\n",
    "    data['pat_id'] = str(item['出願番号'])\n",
    "    data['pat_name'] = item['発明の名称']\n",
    "    data['summury'] = item['要約']\n",
    "    data['text'] = item['請求の範囲']\n",
    "    # print(data)\n",
    "    filename = data['pat_id'] + '.json'\n",
    "    f = open(filename, 'w')\n",
    "    json.dump(data, f)\n",
    "    f.close()\n",
    "    collection = discovery.get_collection(environment_id, collection_id)\n",
    "    # print(json.dumps(collection, indent=2))\n",
    "    with open(filename) as f:\n",
    "        add_doc = discovery.add_document(environment_id, collection_id, file = f)\n",
    "    os.remove(filename)\n",
    "    # print(json.dumps(add_doc, indent=2))"
   ]
  },
  {
   "cell_type": "code",
   "execution_count": null,
   "metadata": {},
   "outputs": [],
   "source": []
  },
  {
   "cell_type": "markdown",
   "metadata": {},
   "source": [
    "# 検索テスト"
   ]
  },
  {
   "cell_type": "code",
   "execution_count": null,
   "metadata": {},
   "outputs": [],
   "source": [
    "query = '検索テスト'\n",
    "filter = '検索テスト'"
   ]
  },
  {
   "cell_type": "code",
   "execution_count": null,
   "metadata": {},
   "outputs": [],
   "source": [
    "my_query = discovery.query(\n",
    "    environment_id = environment_id, \n",
    "    collection_id = collection_id, \n",
    "    query = query, \n",
    "    filter = filter, \n",
    "    return_fields = '['pat_id', 'pat_name']')\n",
    "print(json.dumps(my_query, indent=2))"
   ]
  },
  {
   "cell_type": "code",
   "execution_count": null,
   "metadata": {},
   "outputs": [],
   "source": []
  },
  {
   "cell_type": "markdown",
   "metadata": {},
   "source": [
    "# データ削除用 (MAX100件)"
   ]
  },
  {
   "cell_type": "code",
   "execution_count": null,
   "metadata": {},
   "outputs": [],
   "source": [
    "results = discovery.query(environment_id, collection_id, return_fields='id', count=100)[\"results\"]\n",
    "ids = [item[\"id\"] for item in results]\n",
    "\n",
    "for id in ids:\n",
    "    print('deleting doc: id =' + id)\n",
    "    discovery.delete_document(environment_id, collection_id, id)"
   ]
  }
 ],
 "metadata": {
  "kernelspec": {
   "display_name": "Python 3.5",
   "language": "python",
   "name": "python3"
  },
  "language_info": {
   "codemirror_mode": {
    "name": "ipython",
    "version": 3
   },
   "file_extension": ".py",
   "mimetype": "text/x-python",
   "name": "python",
   "nbconvert_exporter": "python",
   "pygments_lexer": "ipython3",
   "version": "3.5.4"
  }
 },
 "nbformat": 4,
 "nbformat_minor": 1
}
